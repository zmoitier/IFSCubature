{
 "cells": [
  {
   "cell_type": "markdown",
   "metadata": {},
   "source": [
    "# Barnsley fern"
   ]
  },
  {
   "cell_type": "code",
   "execution_count": 1,
   "metadata": {},
   "outputs": [],
   "source": [
    "from itertools import product\n",
    "\n",
    "import numpy as np\n",
    "import sympy as sy\n",
    "\n",
    "import src"
   ]
  },
  {
   "cell_type": "code",
   "execution_count": 2,
   "metadata": {},
   "outputs": [],
   "source": [
    "def barnsley_fern() -> src.SelfAffineSet:\n",
    "    \"\"\"Return the Barnsley fern.\"\"\"\n",
    "\n",
    "    ifs = [\n",
    "        src.AffineContraction(\n",
    "            sy.Matrix([[0, 0], [0, sy.Rational(16, 100)]]), sy.Matrix([0, 0])\n",
    "        ),\n",
    "        src.AffineContraction(\n",
    "            sy.Matrix(\n",
    "                [\n",
    "                    [sy.Rational(85, 100), sy.Rational(4, 100)],\n",
    "                    [sy.Rational(-4, 100), sy.Rational(85, 100)],\n",
    "                ]\n",
    "            ),\n",
    "            sy.Matrix([0, sy.Rational(16, 10)]),\n",
    "        ),\n",
    "        src.AffineContraction(\n",
    "            sy.Matrix(\n",
    "                [\n",
    "                    [sy.Rational(2, 10), sy.Rational(-26, 100)],\n",
    "                    [sy.Rational(23, 100), sy.Rational(22, 100)],\n",
    "                ]\n",
    "            ),\n",
    "            sy.Matrix([0, sy.Rational(16, 10)]),\n",
    "        ),\n",
    "        src.AffineContraction(\n",
    "            sy.Matrix(\n",
    "                [\n",
    "                    [sy.Rational(-15, 100), sy.Rational(28, 100)],\n",
    "                    [sy.Rational(26, 100), sy.Rational(24, 100)],\n",
    "                ]\n",
    "            ),\n",
    "            sy.Matrix([0, sy.Rational(44, 100)]),\n",
    "        ),\n",
    "    ]\n",
    "\n",
    "    return src.SelfAffineSet(\n",
    "        ifs,\n",
    "        [\n",
    "            sy.Rational(1, 100),\n",
    "            sy.Rational(85, 100),\n",
    "            sy.Rational(7, 100),\n",
    "            sy.Rational(7, 100),\n",
    "        ],\n",
    "        2,\n",
    "    )"
   ]
  },
  {
   "cell_type": "code",
   "execution_count": 3,
   "metadata": {},
   "outputs": [],
   "source": [
    "attractor = barnsley_fern()"
   ]
  },
  {
   "cell_type": "code",
   "execution_count": 4,
   "metadata": {},
   "outputs": [
    {
     "data": {
      "image/png": "[encoded data removed]",
      "text/plain": [
       "<Figure size 640x480 with 1 Axes>"
      ]
     },
     "metadata": {},
     "output_type": "display_data"
    }
   ],
   "source": [
    "src.render_chaos_game(attractor, 10_000)"
   ]
  },
  {
   "cell_type": "code",
   "execution_count": 5,
   "metadata": {},
   "outputs": [
    {
     "data": {
      "text/latex": [
       "$\\displaystyle \\int_\\Gamma 1\\, \\mathrm{d}\\mu(\\boldsymbol{x}) = 1 $"
      ],
      "text/plain": [
       "<IPython.core.display.Latex object>"
      ]
     },
     "metadata": {},
     "output_type": "display_data"
    },
    {
     "data": {
      "text/latex": [
       "$\\displaystyle \\int_\\Gamma x\\, \\mathrm{d}\\mu(\\boldsymbol{x}) = \\frac{2659956}{3338159} $"
      ],
      "text/plain": [
       "<IPython.core.display.Latex object>"
      ]
     },
     "metadata": {},
     "output_type": "display_data"
    },
    {
     "data": {
      "text/latex": [
       "$\\displaystyle \\int_\\Gamma y\\, \\mathrm{d}\\mu(\\boldsymbol{x}) = \\frac{20588360}{3338159} $"
      ],
      "text/plain": [
       "<IPython.core.display.Latex object>"
      ]
     },
     "metadata": {},
     "output_type": "display_data"
    },
    {
     "data": {
      "text/latex": [
       "$\\displaystyle \\int_\\Gamma x^{2}\\, \\mathrm{d}\\mu(\\boldsymbol{x}) = \\frac{325786890746401407300}{157289840877865897597} $"
      ],
      "text/plain": [
       "<IPython.core.display.Latex object>"
      ]
     },
     "metadata": {},
     "output_type": "display_data"
    },
    {
     "data": {
      "text/latex": [
       "$\\displaystyle \\int_\\Gamma x y\\, \\mathrm{d}\\mu(\\boldsymbol{x}) = \\frac{977141745665716646184}{157289840877865897597} $"
      ],
      "text/plain": [
       "<IPython.core.display.Latex object>"
      ]
     },
     "metadata": {},
     "output_type": "display_data"
    },
    {
     "data": {
      "text/latex": [
       "$\\displaystyle \\int_\\Gamma y^{2}\\, \\mathrm{d}\\mu(\\boldsymbol{x}) = \\frac{6966156415650651623428}{157289840877865897597} $"
      ],
      "text/plain": [
       "<IPython.core.display.Latex object>"
      ]
     },
     "metadata": {},
     "output_type": "display_data"
    },
    {
     "data": {
      "text/latex": [
       "$\\displaystyle \\int_\\Gamma x^{3}\\, \\mathrm{d}\\mu(\\boldsymbol{x}) = \\frac{150404690462903567974630853676717502433523150276504}{53029946422145567900815696664655996893581809014113} $"
      ],
      "text/plain": [
       "<IPython.core.display.Latex object>"
      ]
     },
     "metadata": {},
     "output_type": "display_data"
    },
    {
     "data": {
      "text/latex": [
       "$\\displaystyle \\int_\\Gamma x^{2} y\\, \\mathrm{d}\\mu(\\boldsymbol{x}) = \\frac{747153853666049817588694298214070072924163629117824}{53029946422145567900815696664655996893581809014113} $"
      ],
      "text/plain": [
       "<IPython.core.display.Latex object>"
      ]
     },
     "metadata": {},
     "output_type": "display_data"
    },
    {
     "data": {
      "text/latex": [
       "$\\displaystyle \\int_\\Gamma x y^{2}\\, \\mathrm{d}\\mu(\\boldsymbol{x}) = \\frac{2810202159093366120460871583715098931975611044635104}{53029946422145567900815696664655996893581809014113} $"
      ],
      "text/plain": [
       "<IPython.core.display.Latex object>"
      ]
     },
     "metadata": {},
     "output_type": "display_data"
    },
    {
     "data": {
      "text/latex": [
       "$\\displaystyle \\int_\\Gamma y^{3}\\, \\mathrm{d}\\mu(\\boldsymbol{x}) = \\frac{18410880765594846629813480178445902735398271469611880}{53029946422145567900815696664655996893581809014113} $"
      ],
      "text/plain": [
       "<IPython.core.display.Latex object>"
      ]
     },
     "metadata": {},
     "output_type": "display_data"
    },
    {
     "data": {
      "text/latex": [
       "$\\displaystyle \\int_\\Gamma x^{4}\\, \\mathrm{d}\\mu(\\boldsymbol{x}) = \\frac{181117528073801974435067849505229002885918991891760217231210486893979086271790154035926105824422656}{24615357725214059899592182321772183201762851004386669130151334422773474744461734583921927595323991} $"
      ],
      "text/plain": [
       "<IPython.core.display.Latex object>"
      ]
     },
     "metadata": {},
     "output_type": "display_data"
    },
    {
     "data": {
      "text/latex": [
       "$\\displaystyle \\int_\\Gamma x^{3} y\\, \\mathrm{d}\\mu(\\boldsymbol{x}) = \\frac{558271183911933488338932436269663533025400524739913184294680424204232024115934047930722200379066464}{24615357725214059899592182321772183201762851004386669130151334422773474744461734583921927595323991} $"
      ],
      "text/plain": [
       "<IPython.core.display.Latex object>"
      ]
     },
     "metadata": {},
     "output_type": "display_data"
    },
    {
     "data": {
      "text/latex": [
       "$\\displaystyle \\int_\\Gamma x^{2} y^{2}\\, \\mathrm{d}\\mu(\\boldsymbol{x}) = \\frac{63550081797852208528031900911800718907463732336056930542616735666804994837962036009857925473801152}{572450179656140927897492612134236818645647697776434165817472893552871505685156618230742502216837} $"
      ],
      "text/plain": [
       "<IPython.core.display.Latex object>"
      ]
     },
     "metadata": {},
     "output_type": "display_data"
    },
    {
     "data": {
      "text/latex": [
       "$\\displaystyle \\int_\\Gamma x y^{3}\\, \\mathrm{d}\\mu(\\boldsymbol{x}) = \\frac{11551892179095583820524499078972507035336747512461847938108374984245493555003424914430820711534429120}{24615357725214059899592182321772183201762851004386669130151334422773474744461734583921927595323991} $"
      ],
      "text/plain": [
       "<IPython.core.display.Latex object>"
      ]
     },
     "metadata": {},
     "output_type": "display_data"
    },
    {
     "data": {
      "text/latex": [
       "$\\displaystyle \\int_\\Gamma y^{4}\\, \\mathrm{d}\\mu(\\boldsymbol{x}) = \\frac{3723152318938604811184087089472823594423763017935668521939830470675291731108332290737639090989510400}{1295545143432318942083799069566957010619097421283508901586912338040709197076933399153785662911789} $"
      ],
      "text/plain": [
       "<IPython.core.display.Latex object>"
      ]
     },
     "metadata": {},
     "output_type": "display_data"
    }
   ],
   "source": [
    "tot_deg_max = 4\n",
    "\n",
    "values = src.compute_polynomial_integral(attractor, tot_deg_max)\n",
    "\n",
    "src.display_values(values, attractor.space_dim, variables=sy.symbols(\"x y\", real=True))"
   ]
  },
  {
   "cell_type": "code",
   "execution_count": 6,
   "metadata": {},
   "outputs": [],
   "source": [
    "# src.export_to_file(values, attractor, \"d2-cantor-dust\")"
   ]
  }
 ],
 "metadata": {
  "kernelspec": {
   "display_name": "Python 3 (ipykernel)",
   "language": "python",
   "name": "python3"
  },
  "language_info": {
   "codemirror_mode": {
    "name": "ipython",
    "version": 3
   },
   "file_extension": ".py",
   "mimetype": "text/x-python",
   "name": "python",
   "nbconvert_exporter": "python",
   "pygments_lexer": "ipython3",
   "version": "3.11.0rc1"
  }
 },
 "nbformat": 4,
 "nbformat_minor": 4
}
